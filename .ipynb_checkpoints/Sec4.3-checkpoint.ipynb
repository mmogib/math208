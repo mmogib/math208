{
 "cells": [
  {
   "cell_type": "markdown",
   "metadata": {},
   "source": [
    "### 4.3 Linear Combination & Independence of Vectors\n",
    "\n",
    "* The vector $\\bf w$ is called a __linear combination__ of the vectors ${\\bf v_1}, {\\bf v_2}, \\cdots, {\\bf v_k}$ provided that there exist scalars $c_1, c_2, \\cdots, c_k$ such that \n",
    "$$\n",
    "{\\bf w} = c_1 {\\bf v_1}+c_2 {\\bf v_2}+\\cdots + c_k {\\bf v_k}. \n",
    "$$\n",
    "\n",
    "* Suppose that ${\\bf v_1}, {\\bf v_2}, \\cdots, {\\bf v_k}$ are vectors in a vector space $V$. Then we say the vectors ${\\bf v_1}, {\\bf v_2}, \\cdots, {\\bf v_k}$ __span__ the vector space $V$ provided that every vector in $V$ is a linear combination of these $k$ vectors. We say that the set \n",
    "$$\n",
    "S=\\{{\\bf v_1}, {\\bf v_2}, \\cdots, {\\bf v_k}\\}\n",
    "$$\n",
    "is a __spanning set__ for $V$.\n"
   ]
  },
  {
   "cell_type": "markdown",
   "metadata": {},
   "source": [
    "#### Examples (1,2)\n"
   ]
  },
  {
   "cell_type": "markdown",
   "metadata": {},
   "source": [
    "![Theorem 1](./imgs/4.3/th1.jpg)\n",
    "\n",
    "We say that the subspace $W$ of a vector space $V$ is the space __spanned__ by the vectors ${\\bf v_1}, {\\bf v_2}, \\cdots, {\\bf v_k}$. Or\n",
    "$$\n",
    "W=\\text{span}{S}=\\text{span}\\{{\\bf v_1}, {\\bf v_2}, \\cdots, {\\bf v_k}\\}.\n",
    "$$\n",
    "\n",
    "Example: $\\mathbb{R}^3=\\text{span}\\{{\\bf i}, {\\bf j}, {\\bf k}\\}$."
   ]
  },
  {
   "cell_type": "markdown",
   "metadata": {},
   "source": [
    "![Definition](./imgs/4.3/def.jpg)\n",
    "\n",
    "#### Examples (3,4)"
   ]
  },
  {
   "cell_type": "markdown",
   "metadata": {},
   "source": [
    "### Remarks\n",
    "* Any subset of a linearly independent set is linealry independent.\n",
    "* Any set of more than $n$ vectors in $\\mathbb{R}^n$ is linealy dependent.\n",
    "* The vectors ${\\bf v_1}, {\\bf v_2}, \\cdots, {\\bf v_k}$ are linearly dependent if and only if at least one of them is a linear combination of the others.\n"
   ]
  },
  {
   "cell_type": "markdown",
   "metadata": {},
   "source": [
    "![Theorem 2](./imgs/4.3/th2.jpg)"
   ]
  },
  {
   "cell_type": "markdown",
   "metadata": {},
   "source": [
    "![Theorem 3](./imgs/4.3/th3.jpg)"
   ]
  },
  {
   "cell_type": "code",
   "execution_count": null,
   "metadata": {},
   "outputs": [],
   "source": []
  }
 ],
 "metadata": {
  "kernelspec": {
   "display_name": "Python 3",
   "language": "python",
   "name": "python3"
  },
  "language_info": {
   "codemirror_mode": {
    "name": "ipython",
    "version": 3
   },
   "file_extension": ".py",
   "mimetype": "text/x-python",
   "name": "python",
   "nbconvert_exporter": "python",
   "pygments_lexer": "ipython3",
   "version": "3.6.10"
  }
 },
 "nbformat": 4,
 "nbformat_minor": 4
}
