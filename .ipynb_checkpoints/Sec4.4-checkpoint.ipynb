{
 "cells": [
  {
   "cell_type": "markdown",
   "metadata": {},
   "source": [
    "## Bases and Dimension for Vector Spaces\n",
    "\n",
    "![Definition](./imgs/4.4/def.jpg)"
   ]
  },
  {
   "cell_type": "markdown",
   "metadata": {},
   "source": [
    "#### Example\n",
    "The standard basis for $\\mathbb{R}^n$ is\n",
    "$$\n",
    "{\\bf e_1},{\\bf e_2},\\dots,{\\bf e_n}\n",
    "$$"
   ]
  },
  {
   "cell_type": "markdown",
   "metadata": {},
   "source": [
    "### Remark\n",
    "Any set of $n$ linearly independent vectors in $\\mathbb{R}^n$ is a __basis__ from $\\mathbb{R}^n$. "
   ]
  },
  {
   "cell_type": "code",
   "execution_count": 18,
   "metadata": {},
   "outputs": [
    {
     "data": {
      "text/latex": [
       "$\\displaystyle 30$"
      ],
      "text/plain": [
       "30"
      ]
     },
     "execution_count": 18,
     "metadata": {},
     "output_type": "execute_result"
    }
   ],
   "source": [
    "## Example \n",
    "from sympy import Matrix\n",
    "v1=Matrix([1,-1,-2,-3])\n",
    "v2=Matrix([1,-1,2,3])\n",
    "v3=Matrix([1,-1,-3,-2])\n",
    "v4=Matrix([0,3,-2,-3])\n",
    "A = Matrix([v1.transpose(),v2.transpose(),v3.transpose(),v4.transpose()])\n",
    "A\n",
    "A.det()\n",
    "\n",
    "# It is a basis for R^4."
   ]
  },
  {
   "cell_type": "markdown",
   "metadata": {},
   "source": [
    "![Theorem 1](./imgs/4.4/th1.jpg)\n",
    "\n",
    "![Theorem 2](./imgs/4.4/th2.jpg)\n"
   ]
  },
  {
   "cell_type": "markdown",
   "metadata": {},
   "source": [
    "### Definition\n",
    "* A nonzero vector space $V$ is called __finite dimensional__ if it has a basis of finite number of vetors.\n",
    "* In a finite dimensional vector space $V$ , the number of elements in a basis is called __dimension__ of $V$ and we write $\\text{dim}(V)$.\n",
    "* Any nonzero vector space that has no finite basis is called __infinite dimensional__. (Ex. The vector space of all polynomials)\n",
    "#### Examples\n",
    "\n",
    "* $\\text{dim}(\\mathbb{R})^n=n$.\n",
    "* $\\text{dim}(\\{\\bf 0\\})=0$\n"
   ]
  },
  {
   "cell_type": "markdown",
   "metadata": {},
   "source": [
    "![Theorem 3](./imgs/4.4/th3.jpg)"
   ]
  },
  {
   "cell_type": "markdown",
   "metadata": {},
   "source": [
    "### Basis for solution Spaces\n",
    "We consider the homogeneous linear system\n",
    "$$\n",
    "A{\\bf x}=\\bf 0.\n",
    "$$\n",
    "where $A$ is an $m\\times n$ matrix. \n",
    "\n",
    "* The solution space of this system is a subspace of $\\mathbb{R}^n$.\n",
    "* what is the $\\text{dim}(W)$?\n",
    "\n",
    "\n",
    "### Example\n",
    "Find a basis for the solution space of\n",
    "$$\n",
    "\\begin{array}{rcrcrcrcrcrcl}\n",
    "3x_1 & + & 6x_2 & - & x_3  & - & 5x_4 & + & 5x_5 & = & 0\\\\\n",
    "2x_1 & + & 4x_2 & - & x_3  & - & 3x_4 & + & 2x_5 & = & 0\\\\\n",
    "3x_1 & + & 6x_2 & - & 2x_3 & - & 4x_4 & + &  x_5 & = & 0\\\\\n",
    "\\end{array}\n",
    "$$"
   ]
  },
  {
   "cell_type": "code",
   "execution_count": 31,
   "metadata": {},
   "outputs": [
    {
     "data": {
      "text/latex": [
       "$\\displaystyle \\left[\\begin{matrix}1 & 2 & 0 & -2 & 3\\\\0 & 0 & 1 & -1 & 4\\\\0 & 0 & 0 & 0 & 0\\end{matrix}\\right]$"
      ],
      "text/plain": [
       "Matrix([\n",
       "[1, 2, 0, -2, 3],\n",
       "[0, 0, 1, -1, 4],\n",
       "[0, 0, 0,  0, 0]])"
      ]
     },
     "execution_count": 31,
     "metadata": {},
     "output_type": "execute_result"
    }
   ],
   "source": [
    "A = Matrix([[3,6,-1,-5,5],[2,4,-1,-3,2],[3,6,-2,-4,1]])\n",
    "REF=A.rref()[0]\n",
    "REF"
   ]
  },
  {
   "cell_type": "code",
   "execution_count": null,
   "metadata": {},
   "outputs": [],
   "source": []
  }
 ],
 "metadata": {
  "kernelspec": {
   "display_name": "Python 3",
   "language": "python",
   "name": "python3"
  },
  "language_info": {
   "codemirror_mode": {
    "name": "ipython",
    "version": 3
   },
   "file_extension": ".py",
   "mimetype": "text/x-python",
   "name": "python",
   "nbconvert_exporter": "python",
   "pygments_lexer": "ipython3",
   "version": "3.6.10"
  }
 },
 "nbformat": 4,
 "nbformat_minor": 4
}
