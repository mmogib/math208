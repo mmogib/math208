{
 "cells": [
  {
   "cell_type": "markdown",
   "metadata": {},
   "source": [
    "## 4.5 Row and Column Spaces\n",
    "\n",
    "For an $m\\times n$ matrix $A$,\n",
    "$$\n",
    "A = \\left[\n",
    "\\begin{array}{rrrr}\n",
    "a_{11} & a_{12} &\\cdots & a_{1n} \\\\\n",
    "a_{11} & a_{12} &\\cdots & a_{1n} \\\\\n",
    "\\vdots  \\\\\n",
    "a_{m1} & a_{m2} &\\cdots & a_{mn} \\\\\n",
    "\\end{array}\n",
    "\\right]\n",
    "$$\n",
    "\n",
    "The __row vectors__ of $A$ are \n",
    "$$\n",
    "\\begin{array}{rcrrrr}\n",
    "{\\bf r_1}&=&(a_{11}, & a_{12}, &\\cdots, & a_{1n}) \\\\\n",
    "{\\bf r_2}&=&(a_{11}, & a_{12}, &\\cdots, & a_{1n}) \\\\\n",
    "\\vdots  \\\\\n",
    "{\\bf r_m}&=&(a_{m1}, & a_{m2}, &\\cdots, & a_{mn}) \n",
    "\\end{array}\n",
    "$$\n",
    "\n",
    "* The subscpace of $\\mathbb{R}^n$ spanned by the $m$ row vectors ${\\bf r_1},{\\bf r_2},\\cdots,{\\bf r_m}$ is calle the __row space__ $\\text{Row}(A)$ of the matrix $A$. \n",
    "* The __ row rank__ of $A$, $\\text{rank}(A) = \\text{dim}(\\text{Row}(A))$   "
   ]
  },
  {
   "cell_type": "markdown",
   "metadata": {},
   "source": [
    "### Example 1"
   ]
  },
  {
   "cell_type": "markdown",
   "metadata": {},
   "source": [
    "### Theorem 1:\n",
    "The nonzero row vectors of an echelon matrix are linearly independent and therefore form a basis for its row space.\n",
    "\n",
    "### Theorem 2:\n",
    "It two matrices $A$ and $B$ are equivalent, then they have the same row space.\n"
   ]
  },
  {
   "cell_type": "code",
   "execution_count": 16,
   "metadata": {},
   "outputs": [],
   "source": [
    "## Example 2\n",
    "from sympy import Matrix\n",
    "A = Matrix([[1,2,1,3,2],[3,4,9,0,7],[2,3,5,1,8],[2,2,8,-3,5]])\n"
   ]
  },
  {
   "cell_type": "markdown",
   "metadata": {},
   "source": [
    "For an $m\\times n$ matrix $A$,\n",
    "$$\n",
    "A = \\left[\n",
    "\\begin{array}{rrrr}\n",
    "a_{11} & a_{12} &\\cdots & a_{1n} \\\\\n",
    "a_{11} & a_{12} &\\cdots & a_{1n} \\\\\n",
    "\\vdots  \\\\\n",
    "a_{m1} & a_{m2} &\\cdots & a_{mn} \\\\\n",
    "\\end{array}\n",
    "\\right]\n",
    "$$\n",
    "\n",
    "The __column vectors__ of $A$ are \n",
    "$$\n",
    "\\begin{array}{llll}\n",
    "{\\bf c_1}=\\left[\\begin{array}{r}a_{11} \\\\ a_{21} \\\\ \\vdots \\\\a_{m1}\\end{array}\\right], \n",
    "& \n",
    "{\\bf c_2}=\\left[\\begin{array}{r}a_{12} \\\\ a_{22} \\\\ \\vdots \\\\a_{m2}\\end{array}\\right], \n",
    "& \\cdots, & \n",
    "{\\bf c_n}=\\left[\\begin{array}{r}a_{1n} \\\\ a_{2n} \\\\ \\vdots \\\\a_{mn}\\end{array}\\right],  \n",
    "\\end{array}\n",
    "$$\n",
    "\n",
    "* The subscpace of $\\mathbb{R}^n$ spanned by the $n$ row vectors ${\\bf c_1},{\\bf c_2},\\cdots,{\\bf c_n}$ is calle the __column space__ $\\text{Col}(A)$ of the matrix $A$. \n",
    "* The __column rank__ of $A$, $\\text{rank}(A) = \\text{dim}(\\text{col}(A))$   "
   ]
  },
  {
   "cell_type": "code",
   "execution_count": 17,
   "metadata": {},
   "outputs": [],
   "source": [
    "## Example 3 same as example 2"
   ]
  },
  {
   "cell_type": "markdown",
   "metadata": {},
   "source": [
    "#### Example 5\n",
    "Find a subset of the vectors \n",
    "$$\n",
    "\\begin{array}{lcl}\n",
    "{\\bf v_1} & = & (1,-1,2,2)\\\\\n",
    "{\\bf v_2} & = & (-3,4,1,-2)\\\\\n",
    "{\\bf v_3} & = & (0,1,7,4)\\\\\n",
    "{\\bf v_4} & = & (-5,7,4,-2)\n",
    "\\end{array}\n",
    "$$\n",
    "that form a basis for the subspace $W$ of $\\mathbb{R}^n$ spanned by these fours vectors."
   ]
  },
  {
   "cell_type": "code",
   "execution_count": 35,
   "metadata": {},
   "outputs": [
    {
     "data": {
      "text/plain": [
       "[Matrix([[1, -3, 0, -5]]), Matrix([[0, 1, 1, 2]])]"
      ]
     },
     "execution_count": 35,
     "metadata": {},
     "output_type": "execute_result"
    }
   ],
   "source": [
    "A= Matrix([[1,-1,2,2],[-3,4,1,-2],[0,1,7,4],[-5,7,4,-2]]).T\n",
    "A.rowspace()\n"
   ]
  },
  {
   "cell_type": "markdown",
   "metadata": {},
   "source": [
    "### Theorem 3\n",
    "The row rank and column rank of any matrix are equal."
   ]
  }
 ],
 "metadata": {
  "kernelspec": {
   "display_name": "Python 3",
   "language": "python",
   "name": "python3"
  },
  "language_info": {
   "codemirror_mode": {
    "name": "ipython",
    "version": 3
   },
   "file_extension": ".py",
   "mimetype": "text/x-python",
   "name": "python",
   "nbconvert_exporter": "python",
   "pygments_lexer": "ipython3",
   "version": "3.6.10"
  }
 },
 "nbformat": 4,
 "nbformat_minor": 4
}
