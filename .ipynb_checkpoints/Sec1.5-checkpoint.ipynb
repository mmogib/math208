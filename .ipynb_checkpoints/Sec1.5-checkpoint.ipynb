{
 "cells": [
  {
   "cell_type": "markdown",
   "metadata": {},
   "source": [
    "# 1.5 Linear First-Order Equations\n",
    "It is\n",
    "$$\n",
    "\\frac{dy}{dx} + P(x)y = Q(x)\n",
    "$$"
   ]
  },
  {
   "cell_type": "markdown",
   "metadata": {},
   "source": [
    "## Integrating factor\n",
    "An __integration factor__ of a DE is a function $\\rho(x,y)$ such that the multiplication of each side of the DE by $\\rho(x,y)$ yeilds an equation where each side is recognizable as a derivative. \n",
    "\n",
    "For Linear First-Order Equation, it is\n",
    "$$\n",
    "\\rho(x)=e^{\\int P(x)dx}\n",
    "$$\n",
    "\n",
    "![method](./imgs/1.5/method.png)"
   ]
  },
  {
   "cell_type": "markdown",
   "metadata": {},
   "source": [
    "## Example\n",
    "Solve the IVP\n",
    "$$\n",
    "\\frac{dy}{dx} -y = {11\\over 8}e^{-x/3}, \\qquad y(0)=-1.\n",
    "$$\n",
    "\n",
    "## Example\n",
    "Solve the DE\n",
    "$$\n",
    "(x^2+1)\\frac{dy}{dx} +3xy = 6x.\n",
    "$$"
   ]
  },
  {
   "cell_type": "markdown",
   "metadata": {},
   "source": [
    "![theorem](./imgs/1.5/theorem.png)"
   ]
  },
  {
   "cell_type": "markdown",
   "metadata": {},
   "source": [
    "## Remarks\n",
    "* Linear First-Order equations have *no singular solutions*.\n",
    "* We can solve the initial value problem directly by computing\n",
    "$$\n",
    "\\rho(x)=e^{\\int_{x_0}^x P(t)dt}\n",
    "$$\n",
    "\n"
   ]
  },
  {
   "cell_type": "markdown",
   "metadata": {},
   "source": [
    "![theorem](./imgs/1.5/problems.jpg)"
   ]
  }
 ],
 "metadata": {
  "kernelspec": {
   "display_name": "Julia 1.1.0",
   "language": "julia",
   "name": "julia-1.1"
  },
  "language_info": {
   "file_extension": ".jl",
   "mimetype": "application/julia",
   "name": "julia",
   "version": "1.1.0"
  }
 },
 "nbformat": 4,
 "nbformat_minor": 2
}
