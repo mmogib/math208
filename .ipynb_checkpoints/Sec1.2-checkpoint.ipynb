{
 "cells": [
  {
   "cell_type": "markdown",
   "metadata": {},
   "source": [
    "# 1.2 Integrals as General and Particular Solutions\n",
    "\n",
    "### first-order equation:\n",
    "\n",
    "$$\n",
    "\\frac{dy}{dx} = f(x)\n",
    "$$\n",
    "\n",
    "* General Solution\n",
    "* Particular Solution\n",
    "\n",
    "## Example\n",
    "$$\n",
    "\\frac{dy}{dx} = 2x+3, \\qquad y(1)=2\n",
    "$$\n",
    "\n",
    "\n",
    "### second-order equation:\n",
    "\n",
    "$$\n",
    "\\frac{d^2y}{dx^2} = g(x)\n",
    "$$\n",
    "\n",
    "\n",
    "## Velocity and Accelaraion\n",
    "\n",
    "* positions function\n",
    "$$ x= f(t)$$\n",
    "* velocity\n",
    "$$v=\\frac{dx}{dt}$$\n",
    "* accelation\n",
    "$$a=\\frac{dv}{dt}=\\frac{dx^2}{dt^2}$$"
   ]
  }
 ],
 "metadata": {
  "kernelspec": {
   "display_name": "Julia 1.1.0",
   "language": "julia",
   "name": "julia-1.1"
  },
  "language_info": {
   "file_extension": ".jl",
   "mimetype": "application/julia",
   "name": "julia",
   "version": "1.1.0"
  }
 },
 "nbformat": 4,
 "nbformat_minor": 2
}
