{
 "cells": [
  {
   "cell_type": "markdown",
   "metadata": {},
   "source": [
    "# 1.1 Differential Equations and Mathematical Models\n",
    "\n",
    "### Goals: \n",
    "1. To discover a model.\n",
    "2. To solve\n",
    "3. To interpret.\n",
    "\n",
    "## Example \n",
    "The __time rate of change__ of a Population $P(t)$ with constant birth and death rates is proportional to the __size__ of the population.\n",
    "$$\n",
    "\\frac{dP}{dt} = k P\n",
    "$$\n",
    "\n",
    "## Example \n",
    "Suppose that \n",
    "* $P(t)=Ce^{kt}$ is a the population of a colony of bacteria at time $t$ \n",
    "* $P(0 hours)=1000$\n",
    "* the population doubled after 1 h. $P(1)=2000$\n",
    "\n",
    "## Mathemtical Models\n",
    "$$\n",
    "\\begin{array}{ccccccc}\n",
    " &&&\\text{Real-world situation}&&&\\\\\n",
    " &&\\text{Formulation}&&\\text{Interpretation}&&\\\\\n",
    " \\text{Mathematical model}&&&\\text{Mathemtical analysis}&&\\text{Mathemtical results}&\\\\\n",
    "\\end{array}\n",
    "$$\n",
    "\n",
    "\n",
    "A *mathematica model* consists of a list of variables ($P, t$) that describe the given situation, together with one or more equations realating these variables ($\\frac{dP}{dt} = k P, P(0)=P_0$) that are known or are assumed to hold. \n"
   ]
  },
  {
   "cell_type": "markdown",
   "metadata": {},
   "source": [
    "## Terminology\n",
    "\n",
    "* The **order** of a differential equation is the order of the highest derivative that appears in it.\n",
    "* The most general form of an __*n*th-order__ differential equation with independent variable $x$ and unknown function or dependent variable $y=y(t)$ is\n",
    "$$\n",
    "F(x,y,y^{\\prime},y^{\\prime\\prime},\\cdots, y^{(n)})=0 \\label{deq}\n",
    "$$\n",
    "* We say that the continuous function $u=u(x)$ is a **solution** of the DE above **on the interval** $I$ provided that $u^{\\prime},u^{\\prime\\prime},\\cdots, u^{(n)}$ exist on $I$ and \n",
    "$$\n",
    "F(x,u,u^{\\prime},u^{\\prime\\prime},\\cdots, u^{(n)})=0 \n",
    "$$\n",
    "* **ordinary differential equations** vs **partial differential equations**\n",
    "* **initial value problem** is a differential equation with an **an initial condition**"
   ]
  },
  {
   "cell_type": "markdown",
   "metadata": {},
   "source": [
    "## Example\n",
    "Verify that $y=\\frac{1}{1+x^2}$ is a solution to \n",
    "$$\n",
    "y^\\prime+2xy^2=0\n",
    "$$"
   ]
  }
 ],
 "metadata": {
  "kernelspec": {
   "display_name": "Julia 1.1.0",
   "language": "julia",
   "name": "julia-1.1"
  },
  "language_info": {
   "file_extension": ".jl",
   "mimetype": "application/julia",
   "name": "julia",
   "version": "1.1.0"
  }
 },
 "nbformat": 4,
 "nbformat_minor": 2
}
