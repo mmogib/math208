{
 "cells": [
  {
   "cell_type": "markdown",
   "metadata": {},
   "source": [
    "## 4.2 The Vector Space $\\mathbb{R}^n$ and Subspaces\n",
    "\n",
    "#### Vector Space\n",
    "Let $V$ be a set of elements called *vectors*, in which the operations of addition of vectors and multiplications of vectors by scalars are defined. That is, given vectors $\\bf u, v$ and a scalar $c$ , the vectors ${\\bf u}+{\\bf v}\\in V$ and $c{\\bf u}\\in V$. Then with these operations, $V$ is called a __vector space__ provided that given any vectors ${\\bf u, v, w}$ in $V$ and any scalars $a$ and $b$, the following hold true:\n",
    "1. $\\bf u + v = v + u$ (Commutativity of addition)\n",
    "2. $\\bf u + (v + w) = (u + v) + w$ (Associativity of addition)\n",
    "3. There exists an element $0 \\in V$, called the zero vector, such that $v + 0 = v$ for all $v \\in V$.\n",
    "4. For every ${\\bf v} \\in V$, there exists an element ${\\bf −v}\\in V$, called the additive inverse of $\\bf v$, such that $\\bf v + (−v) = 0$.\n",
    "5. $a({\\bf u} + {\\bf v}) = a{\\bf u} + a{\\bf v}$.\n",
    "6. $(a + b){\\bf v} = a{\\bf v} + b{\\bf v}$.\n",
    "7. $a(b{\\bf v}) = (ab){\\bf v}$.\n",
    "8. $1({\\bf v}) = {\\bf v}$, where 1 denotes the multiplicative identity in $V$.\n",
    "\n",
    "\n",
    "#### Subspace\n",
    "Let $W$ b a nonempty subset of the vector space $V$. Then $W$ is a subspace of $V$ provided that $W$ itself is a vector space with the operations of addition and multiplications by scalars as defined in $V$.\n",
    "\n",
    "#### Conditions for a Subspace\n",
    "The nonempty subset $W$ of the vector sapce $V$ is a subspace of $V$ if and only if it satisfies the following two conditions:\n",
    "1. If $\\bf u$ and $\\bf v$ are vectors in $W$, then ${\\bf u}+{\\bf v}$ also in $W$.\n",
    "2. If $\\bf u$ is a vector in $W$ and $c$ is a scalar, then $c{\\bf u}$ also in $W$.\n",
    "\n",
    "#### Theorem\n",
    "If $A$ is a (constant) $m\\times n$ matrix, then the solution set of the homogeneous linear system\n",
    "$$\n",
    "A x = 0\n",
    "$$\n",
    "is a subspace of $\\mathbb{R}^n$.\n"
   ]
  },
  {
   "cell_type": "code",
   "execution_count": null,
   "metadata": {},
   "outputs": [],
   "source": []
  }
 ],
 "metadata": {
  "kernelspec": {
   "display_name": "Python 3",
   "language": "python",
   "name": "python3"
  },
  "language_info": {
   "codemirror_mode": {
    "name": "ipython",
    "version": 3
   },
   "file_extension": ".py",
   "mimetype": "text/x-python",
   "name": "python",
   "nbconvert_exporter": "python",
   "pygments_lexer": "ipython3",
   "version": "3.6.10"
  }
 },
 "nbformat": 4,
 "nbformat_minor": 4
}
