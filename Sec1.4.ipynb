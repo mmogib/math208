{
 "cells": [
  {
   "cell_type": "markdown",
   "metadata": {},
   "source": [
    "# 1.4 Separable Equations and Applications\n",
    "\n",
    "The equation\n",
    "$$\n",
    "\\frac{dy}{dx} = H(x,y)\n",
    "$$\n",
    "is called __separable__ if $H(x,y)$ can be wrotten as the product of a function of $x$ and a function of $y$:\n",
    "$$\n",
    "\\frac{dy}{dx} = g(x)h(y) = \\frac{g(x)}{f(y)}\n",
    "$$\n",
    "\n",
    "In this case the variables can be isolated *separated*.\n"
   ]
  },
  {
   "cell_type": "markdown",
   "metadata": {},
   "source": [
    "## Example\n",
    "Solve the initial value problem\n",
    "$$\n",
    "\\frac{dy}{dx} = -6xy, \\qquad y(0)=7\n",
    "$$\n",
    "\n",
    "### Remark:\n",
    "* If $y(0)=-4$ what is the solution? "
   ]
  },
  {
   "cell_type": "markdown",
   "metadata": {},
   "source": [
    "## Implicit Solutions\n",
    "Solve differential equation\n",
    "$$\n",
    "\\frac{dy}{dx} = \\frac{4-2x}{3y^2-5}.\n",
    "$$\n",
    "\n",
    "See [graph](https://www.geogebra.org/graphing/kapbpgaa) "
   ]
  },
  {
   "cell_type": "code",
   "execution_count": 1,
   "metadata": {},
   "outputs": [
    {
     "data": {
      "text/latex": [
       "\\[\\left[ \\begin{array}{r}-1.42759826966035 - 1.05551430999854 i\\\\-1.42759826966035 + 1.05551430999854 i\\\\2.8551965393207\\end{array}\\right]\\]"
      ],
      "text/plain": [
       "3×1 Array{Sym,2}:\n",
       " -1.42759826966035 - 1.05551430999854*I\n",
       " -1.42759826966035 + 1.05551430999854*I\n",
       "                       2.85519653932070"
      ]
     },
     "execution_count": 1,
     "metadata": {},
     "output_type": "execute_result"
    }
   ],
   "source": [
    "# Remark 1: \n",
    "using SymPy, Plots;\n",
    "f(x,y)=y^3-5y+x^2-4x;\n",
    "x, y = symbols(\"x, y\", real=true);\n",
    "sol=solve(y^3-5y-9);\n",
    "sol.n().\n",
    "\n",
    "# plot(y->y^3-5y-9, -6:0.1:6)"
   ]
  },
  {
   "cell_type": "markdown",
   "metadata": {},
   "source": [
    "### Remark 2:\n",
    "* solve with $y(1)=0$ and $y(1)=-2$\n"
   ]
  },
  {
   "cell_type": "code",
   "execution_count": 55,
   "metadata": {},
   "outputs": [
    {
     "data": {
      "text/plain": [
       "(-3, -1)"
      ]
     },
     "execution_count": 55,
     "metadata": {},
     "output_type": "execute_result"
    }
   ],
   "source": [
    "c2=f(1,0)\n",
    "c3=f(1,-2)\n",
    "c2,c3"
   ]
  },
  {
   "cell_type": "markdown",
   "metadata": {},
   "source": [
    "## Implicit, General, Singular Solutions\n",
    "The equation \n",
    "$$\n",
    "K(x,y)=0\n",
    "$$\n",
    "is called an __implicit solution__ of DE if it is satisfied (on some interval) by some solution $y=y(x)$ of the DE.\n",
    "\n",
    "### Note\n",
    "* A particular solution $y=y(x)$ of $K(x,y)=0$ may or may not satisfy the givent IVP. For example $x^2+y^2=4$ gives\n",
    "$$\n",
    "x+y\\frac{dy}{dx}=0\n",
    "$$\n",
    "* Do not assume that every possible algebraic solution $y=y(x)$ of an implicit solution satisfies the same DE.\n",
    "* Also, solutions of a given DE can be either gained or lost when it is multiplied or divided by an algebraic factor. \n",
    "$$\n",
    "(y-2x)y\\frac{dy}{dx}=-x(y-2x)\n",
    "$$\n",
    "**extraneous solutions**"
   ]
  },
  {
   "cell_type": "markdown",
   "metadata": {},
   "source": [
    "### General and Particular Solution\n",
    "A solution that contains an \"arbitrary constant\" is called a __general solution__. A solution with a specific value of the the constant is called a __particular solution__.\n",
    "\n",
    "### Singular Solution\n",
    "A particular solution that cannot be obtained from the general solution.\n",
    "(ex. $(y')^2=4y$ has general solution $y=(x-C)^2$, but $y=0$ is a singular solution)\n",
    "\n",
    "## Example\n",
    "Solve the DE\n",
    "$$\n",
    "\\frac{dy}{dx}=6x(y-1)^{2\\over 3}\n",
    "$$"
   ]
  }
 ],
 "metadata": {
  "kernelspec": {
   "display_name": "Julia 1.1.0",
   "language": "julia",
   "name": "julia-1.1"
  },
  "language_info": {
   "file_extension": ".jl",
   "mimetype": "application/julia",
   "name": "julia",
   "version": "1.1.0"
  }
 },
 "nbformat": 4,
 "nbformat_minor": 2
}
