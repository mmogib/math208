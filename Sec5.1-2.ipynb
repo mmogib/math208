{
 "cells": [
  {
   "cell_type": "markdown",
   "metadata": {},
   "source": [
    "### 5.1 Introduction: Second-Order Linear Equations\n",
    "\n",
    "A linear second-order equation is one of the form\n",
    "$$\n",
    "A(x) y'' + B(x) y' +C(x) y = F(x).\n",
    "$$\n",
    "where the functions $A, B, C$ and $F$ are continuous on the open interval $I$. \n",
    "#### Remarks\n",
    "* If $F(x) \\equiv 0$, we call it __homogeneous__ linear equation; otherwise we call __nonhomogeneous__\n",
    "\n",
    "Assume that $$ A(x)\\not = 0 \\quad \\text{ at each point of } I.$$. Then we get \n",
    "$$\n",
    "y'' + p(x)y' + q(x)y = f(x).\n",
    "$$\n",
    "and the associated homogeneous eqquation \n",
    "$$\n",
    "y'' + p(x)y' + q(x)y = 0.\n",
    "$$\n",
    "\n",
    "\n",
    "### In general,\n",
    "The __n-th order linear__ differential equation is\n",
    "$$\n",
    "y^{(n)}+p_1(x)y^{(n-1)}+\\cdots+p_{n-1}y' + p_n(x) y = f(x) \n",
    "$$\n",
    "and the associated homogeneous eqquation \n",
    "$$\n",
    "y^{(n)}+p_1(x)y^{(n-1)}+\\cdots+p_{n-1}y' + p_n(x) y = 0 \n",
    "$$\n"
   ]
  },
  {
   "cell_type": "markdown",
   "metadata": {},
   "source": [
    "### Homogeneous Linear Equations\n",
    "Let study first the homogenous equations\n",
    "![Theorem 1](./imgs/5.1/th1.jpg)\n",
    "In general,\n",
    "![Theorem 1](./imgs/5.1/th1g.jpg)\n",
    "\n",
    "#### Example 1:\n",
    "$$y'' + y =0 $$\n",
    "\n",
    "\n",
    "#### Remark:\n",
    "The set $S$ of all soutions of the homogeneous linear equations is a subspace of the vector space of all functions on the real line $\\mathbb{R}$.  "
   ]
  },
  {
   "cell_type": "markdown",
   "metadata": {},
   "source": [
    "![Theorem 2](./imgs/5.1/th2.jpg)\n",
    "In general,\n",
    "![Theorem 2 g](./imgs/5.1/th2g.jpg)\n",
    "\n",
    "#### Example\n",
    "Verify that the functions \n",
    "$$y_1(x)=e^x\\quad \\text{and} \\quad y_2(x)=xe^x$$\n",
    "are solutions of the IVP\n",
    "$$\n",
    "y''-2y'+y=0, \\quad y(0)=3, y'(0)=1.\n",
    "$$"
   ]
  },
  {
   "cell_type": "markdown",
   "metadata": {},
   "source": [
    "### Linearly Independent Solutions\n",
    "![Def 1](./imgs/5.1/def1.jpg)\n",
    "\n",
    "In general,\n",
    "\n",
    "![Def 1 g](./imgs/5.1/def1g.jpg)\n",
    "\n",
    "\n",
    "#### Examples\n",
    "$\\sin{x}, \\cos{x}$ or $e^x, e^{-x}$ "
   ]
  },
  {
   "cell_type": "markdown",
   "metadata": {},
   "source": [
    "### General Solutions\n",
    "\n",
    "##### (Question) Does the homogeneous second-order always have two linealy independent solutions? In general, does homogeneous nth-order always have n linealy independent solutions ?\n",
    "\n",
    "#### (Anawer) YES\n",
    "* First how to check for linear dependence\n",
    "![Theorem 3](./imgs/5.1/th3.jpg)\n",
    "\n",
    "* General Solutions\n",
    "![Theorem 4](./imgs/5.1/th4.jpg)\n",
    "\n",
    "\n",
    "#### In general;\n",
    "* First how to check for linear dependence\n",
    "![Theorem 3 g](./imgs/5.1/th3g.jpg)\n",
    "\n",
    "* General Solutions\n",
    "![Theorem 4 g](./imgs/5.1/th4g.jpg)\n",
    "\n",
    "\n",
    "##### The Wronskian of $f_1, f_2, \\cdots, f_n$ is the determinant \n",
    "$$\n",
    "W(f_1,f_2,\\cdots,f_n) = \\left|\n",
    "\\begin{array}{cccc}\n",
    "f_1 & f_2 & \\cdots, & f_n \\\\\n",
    "f'_1 & f'_2 & \\cdots, & f'_n \\\\\n",
    "f''_1 & f''_2 & \\cdots,&  f''_n \\\\\n",
    "\\vdots &  & \\cdots,&  \\vdots \\\\\n",
    "f^{(n-1)}_1 & f^{(n-1)}_2 & \\cdots,& f^{(n-1)}_n \n",
    "\\end{array}\n",
    "\\right| \n",
    "$$"
   ]
  },
  {
   "cell_type": "markdown",
   "metadata": {},
   "source": [
    "#### Example 3\n",
    "Show that the functions \n",
    "$$y_1(x)=e^{-3x},y_2(x)=\\cos{2x},y_3(x)=sin{2x} $$"
   ]
  },
  {
   "cell_type": "markdown",
   "metadata": {},
   "source": [
    "### Linear second-order with Constant Coefficient\n",
    "\n",
    "Consider the equation\n",
    "$$ ay'' + by' + cy =0$$\n",
    "\n",
    "The algebraic equation \n",
    "$$ ar^2 + br + c =0$$\n",
    "is called __characteristic equation__ or __auxiliary equarion__ of the differential equation.\n",
    "![Thorem 5](./imgs/5.1/th5.jpg)\n",
    "\n",
    "#### Example 4 \n",
    "Find the general solution of\n",
    "$$ 2y''-6y'+3y=0$$"
   ]
  },
  {
   "cell_type": "markdown",
   "metadata": {},
   "source": [
    "![Thorem 6](./imgs/5.1/th6.jpg)\n",
    "\n",
    "#### Example 5\n",
    "Solve the IVP\n",
    "$$\n",
    "y''+2y'+y=0, \\quad y(0)=5, \\;\\; y'(0)=-3\n",
    "$$"
   ]
  },
  {
   "cell_type": "code",
   "execution_count": null,
   "metadata": {},
   "outputs": [],
   "source": []
  }
 ],
 "metadata": {
  "kernelspec": {
   "display_name": "Python 3",
   "language": "python",
   "name": "python3"
  },
  "language_info": {
   "codemirror_mode": {
    "name": "ipython",
    "version": 3
   },
   "file_extension": ".py",
   "mimetype": "text/x-python",
   "name": "python",
   "nbconvert_exporter": "python",
   "pygments_lexer": "ipython3",
   "version": "3.6.10"
  }
 },
 "nbformat": 4,
 "nbformat_minor": 4
}
