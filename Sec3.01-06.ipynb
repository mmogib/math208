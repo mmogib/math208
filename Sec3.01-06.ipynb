{
 "cells": [
  {
   "cell_type": "markdown",
   "metadata": {
    "slideshow": {
     "slide_type": "slide"
    }
   },
   "source": [
    "# Chapter 3\n",
    "## 3.1 Introduction to Linear System\n",
    "\n",
    "A finite set of linear equations in a finite set of variables, for example, ${\\displaystyle x_{1},x_{2},...,x_{n}}$ or ${\\displaystyle x,y,...,z}$ is called a system of linear equations or a linear system.\n",
    "\n",
    "Linear systems are either\n",
    "* __consistent__: have solutions (one unique or infinitely many)\n",
    "* __inconsistent__: have no solutions\n",
    "\n",
    "### Illustration: Two equations of tow unknow\n",
    "\n",
    "\n",
    "### The Method of Elimination:\n",
    "#### Example:\n",
    "Solve\n",
    "$$\n",
    "{\\begin{alignedat}{5}2x&&\\;+\\;&&3y&&\\;=\\;&&6&\\\\4x&&\\;+\\;&&9y&&\\;=\\;&&15&.\\end{alignedat}}\n",
    "$$\n",
    "\n",
    "#### Example\n",
    "\n",
    "$$\n",
    "{\\displaystyle {\\begin{alignedat}{7}3x&&\\;+\\;&&2y&&\\;-\\;&&z&&\\;=\\;&&1&\\\\2x&&\\;-\\;&&2y&&\\;+\\;&&4z&&\\;=\\;&&-2&\\\\-x&&\\;+\\;&&{\\tfrac {1}{2}}y&&\\;-\\;&&z&&\\;=\\;&&0&\\end{alignedat}}}\n",
    "$$\n"
   ]
  },
  {
   "cell_type": "markdown",
   "metadata": {
    "slideshow": {
     "slide_type": "slide"
    }
   },
   "source": [
    "## 3.2 Matrices and Gaussian Elimination\n",
    "\n",
    "### Notation\n",
    "$$\n",
    "{\\displaystyle \\mathbf {A} ={\\begin{bmatrix}a_{11}&a_{12}&\\cdots &a_{1n}\\\\a_{21}&a_{22}&\\cdots &a_{2n}\\\\\\vdots &\\vdots &\\ddots &\\vdots \\\\a_{m1}&a_{m2}&\\cdots &a_{mn}\\end{bmatrix}}={\\begin{pmatrix}a_{11}&a_{12}&\\cdots &a_{1n}\\\\a_{21}&a_{22}&\\cdots &a_{2n}\\\\\\vdots &\\vdots &\\ddots &\\vdots \\\\a_{m1}&a_{m2}&\\cdots &a_{mn}\\end{pmatrix}}=\\left(a_{ij}\\right)=\\left[a_{ij}\\right]\\in \\mathbb {R} ^{m\\times n}.}\n",
    "$$\n",
    "\n",
    "### Coefficient matrix\n",
    "In general, a system with $m$ linear equations and $n$ unknowns can be written as\n",
    "$$a_{11}x_1 + a_{12}x_2 + \\cdots + a_{1n}x_n = b_1 \\,$$\n",
    "$$a_{21}x_1 + a_{22}x_2 + \\cdots + a_{2n}x_n = b_2 \\,$$\n",
    "$${\\displaystyle \\vdots \\,}$$\n",
    "$$a_{m1}x_1 + a_{m2}x_2 + \\cdots + a_{mn}x_n = b_m \\,$$\n",
    "\n",
    "where ${\\displaystyle x_{1},\\ x_{2},...,x_{n}}x_{1},$ are the unknowns and the numbers ${\\displaystyle a_{11},\\ a_{12},...,\\ a_{mn}}a_{{11}},$ are the coefficients of the system. The coefficient matrix is the $m\\times n$ matrix with the coefficient ${\\displaystyle a_{ij}}$ as the $(i,j)$-th entry:\n",
    "\n",
    "$$\n",
    "\\begin{bmatrix}\n",
    "a_{11} & a_{12} & \\cdots & a_{1n} \\\\\n",
    "a_{21} & a_{22} &\\cdots & a_{2n} \\\\\n",
    "\\vdots & \\vdots & \\ddots & \\vdots \\\\\n",
    "a_{m1} & a_{m2} & \\cdots & a_{mn} \\end{bmatrix}\n",
    "$$\n",
    "Then the above set of equations can be expressed more succinctly as\n",
    "$$\n",
    "{\\displaystyle Ax=b}\n",
    "$$\n",
    "where $A$ is the coefficient matrix and $b$ is the column vector of constant terms.\n",
    "\n",
    "### Elementary row operations\n",
    "There are three types of elementary matrices, which correspond to three types of row operations (respectively, column operations):\n",
    "\n",
    "* __Row switching__\n",
    "A row within the matrix can be switched with another row.\n",
    "$R_i \\leftrightarrow R_j$.\n",
    "* __Row multiplication__\n",
    "Each element in a row can be multiplied by a non-zero constant.\n",
    "$kR_i \\rightarrow R_i,\\ \\mbox{where } k \\neq 0$.\n",
    "* __Row addition__\n",
    "A row can be replaced by the sum of that row and a multiple of another row.\n",
    "$R_i + kR_j \\rightarrow R_i, \\mbox{where } i \\neq j$ \n",
    "\n",
    "### Example:\n",
    "Solve\n",
    "$$\n",
    "{\\displaystyle {\\begin{alignedat}{4}2x&{}+{}&y&{}-{}&z&{}={}&8&\\\\-3x&{}-{}&y&{}+{}&2z&{}={}&-11&\\\\-2x&{}+{}&y&{}+{}&2z&{}={}&-3&\\end{alignedat}}}\n",
    "$$"
   ]
  },
  {
   "cell_type": "markdown",
   "metadata": {},
   "source": [
    "### Echelon Matrix\n",
    "A matrix is (in __row echelon form__)  or an __echelon matrix__ an if\n",
    "\n",
    "1. all nonzero rows (rows with at least one nonzero element) are above any rows of all zeroes (all zero rows, if any, belong at the bottom of the matrix), and\n",
    "2. the leading coefficient (the first nonzero number from the left, also called the pivot) of a nonzero row is always strictly to the right of the leading coefficient of the row above it.\n",
    "\n",
    "The following is an example of a 3×5 matrix in row echelon form, which is not in reduced row echelon form:\n",
    "$$\n",
    "\\left[ \\begin{array}{ccccc}\n",
    "1 & a_0 & a_1 & a_2 & a_3 \\\\\n",
    "0 & 0 & 2 & a_4 & a_5 \\\\\n",
    "0 & 0 & 0 & 1 & a_6\n",
    "\\end{array} \\right]\n",
    "$$"
   ]
  },
  {
   "cell_type": "markdown",
   "metadata": {},
   "source": [
    "### Gaussian Elimination \n",
    "Read the algorithm. It is however, illustrated as follows:\n",
    "\n",
    "\n",
    "### Example:\n",
    "Solve\n",
    "$$\n",
    "{\\begin{alignedat}{12}\n",
    "x_1&{}-{}&2x_2&{}+{}&3x_3&{}+{}&2x_4{}+{}&x_5{}={}&10&\\\\\n",
    "2x_1&{}-{}&4x_2&{}+{}&8x_3&{}+{}&3x_4{}+{}&10x_5{}={}&7&\\\\\n",
    "3x_1&{}-{}&6x_2&{}+{}&10x_3&{}+{}&6x_4{}+{}&5x_5{}={}&27&\n",
    "\\end{alignedat}}\n",
    "$$"
   ]
  },
  {
   "cell_type": "markdown",
   "metadata": {},
   "source": [
    "## 3.3 Reduced Row-Echolon Matrices [and Gauss-Jordan Elimination]\n",
    "\n",
    "### Reduced row echelon form\n",
    "A matrix is in reduced row echelon form (also called row canonical form) if it satisfies the following conditions:\n",
    "1. It is in row echelon form.\n",
    "2. The leading entry in each nonzero row is a 1 (called a leading 1).\n",
    "3. Each column containing a leading 1 has zeros everywhere else.\n",
    "\n",
    "\n",
    "The reduced row echelon form of a matrix may be computed by Gauss–Jordan elimination"
   ]
  },
  {
   "cell_type": "markdown",
   "metadata": {},
   "source": [
    "## 3.4 Matrix Operations\n",
    "Revise it.\n"
   ]
  },
  {
   "cell_type": "markdown",
   "metadata": {},
   "source": [
    "## 3.5 Matrix Inverse\n",
    "\n",
    "#### Examples\n",
    "Find the inverse of\n",
    "\n",
    "* $A=\\left[\\begin{array}{cc}2 & -1 \\\\ -4 & 3\\end{array}\\right]$\n",
    "* $A=\\left[\\begin{array}{rrr}1 & 3 & 2 \\\\ 2 & 8 & 3 \\\\ 3 & 10 & 6\\end{array}\\right] $\n",
    "__Solution in class__\n",
    "\n",
    "#### Example\n",
    "Find a $3\\times 4$ matrix $\\bf X$ such that\n",
    "$$\n",
    "\\left[\\begin{array}{rrr}1 & 3 & 2 \\\\ 2 & 8 & 3 \\\\ 3 & 10 & 6\\end{array}\\right]  {\\bf X} = \\left[\\begin{array}{rrr}3 & -1 & 2 & 6 \\\\ 7 & 4 & 1 & 5 \\\\ 5 & 2 & 4 & 1\\end{array}\\right]\n",
    "$$\n",
    "__Solution in class__"
   ]
  },
  {
   "cell_type": "code",
   "execution_count": 15,
   "metadata": {},
   "outputs": [],
   "source": [
    "import sympy as sp\n",
    "A=sp.Matrix([[1,3,2],[2,8,3],[3,10,6]])\n",
    "B=sp.Matrix([[3 , -1 , 2 , 6],[7 , 4 , 1 , 5],[5 , 2 , 4 , 1]])\n",
    "X=A.inv()* B\n",
    "#A.inv()"
   ]
  },
  {
   "cell_type": "markdown",
   "metadata": {},
   "source": [
    "### Theorem (Properties of Nonsingular Matrices)\n",
    "The following properties of an $n\\times n$ $A$ are equivalent\n",
    "1. $A$ is invertible.\n",
    "2. $A$ is row equivalent to the $n\\times n$ matrix $I$.\n",
    "3. $A{\\bf x}=\\bf 0$ has only the trivial solution.\n",
    "4. For every $n$-vector $\\bf b$, the system $Ax=b$ has a unique solution.\n",
    "5. For every $n$-vector $\\bf b$, the system $Ax=b$ is consistent.\n",
    "6. $\\det{A}\\not=0$\n",
    "\n"
   ]
  },
  {
   "cell_type": "markdown",
   "metadata": {},
   "source": [
    "### 3.6 Determinants\n",
    "\n",
    "#### Example\n",
    "Find the determinants of the matrices\n",
    "\n",
    "* $\\left[\\begin{array}{cc}2 & -1 \\\\ -4 & 3\\end{array}\\right]$ \n",
    "* $\\left[\\begin{array}{rrr}1 & 3 & 2 \\\\ 2 & 8 & 3 \\\\ 3 & 10 & 6\\end{array}\\right] $\n",
    "* $\\left[\\begin{array}{rrrr}2 & 0 & 0 & -3\\\\ 0 & -1 & 0 & 0\\\\ 7 & 4 & 3 & 5 \\\\ -6 & 2 & 2 & 4\\end{array}\\right] $"
   ]
  },
  {
   "cell_type": "markdown",
   "metadata": {},
   "source": [
    "### Cramer's Rule\n",
    "#### Example\n",
    "Use Cramer's rule to solve the system\n",
    "$$\n",
    "\\begin{array}{rcrcrcr}\n",
    "x_1 &+& 4x_2 &+& 5x_3 & = & 2\\\\\n",
    "4x_1 &+& 2x_2 &+& 5x_3 & = & 3\\\\\n",
    "-3x_1 &+& 3x_2 &-& x_3 & = & 1\n",
    "\\end{array}\n",
    "$$"
   ]
  },
  {
   "cell_type": "code",
   "execution_count": 31,
   "metadata": {},
   "outputs": [
    {
     "data": {
      "text/plain": [
       "(33/29, 35/29, -23/29)"
      ]
     },
     "execution_count": 31,
     "metadata": {},
     "output_type": "execute_result"
    }
   ],
   "source": [
    "A=sp.Matrix([[1,4,5],[4,2,5],[-3,3,-1]])\n",
    "b=sp.Matrix([[2,3,1]]).transpose()\n",
    "detA=A.det()\n",
    "Ax1=A.copy()\n",
    "Ax2=A.copy()\n",
    "Ax3=A.copy()\n",
    "Ax1[:,0]=b\n",
    "Ax2[:,1]=b\n",
    "Ax3[:,2]=b\n",
    "x1=Ax1.det()/A.det()\n",
    "x2=Ax2.det()/A.det()\n",
    "x3=Ax3.det()/A.det()\n",
    "x1,x2,x3"
   ]
  },
  {
   "cell_type": "code",
   "execution_count": null,
   "metadata": {},
   "outputs": [],
   "source": []
  }
 ],
 "metadata": {
  "celltoolbar": "Slideshow",
  "kernelspec": {
   "display_name": "Python 3",
   "language": "python",
   "name": "python3"
  },
  "language_info": {
   "codemirror_mode": {
    "name": "ipython",
    "version": 3
   },
   "file_extension": ".py",
   "mimetype": "text/x-python",
   "name": "python",
   "nbconvert_exporter": "python",
   "pygments_lexer": "ipython3",
   "version": "3.6.10"
  },
  "rise": {
   "theme": "dark"
  }
 },
 "nbformat": 4,
 "nbformat_minor": 4
}
