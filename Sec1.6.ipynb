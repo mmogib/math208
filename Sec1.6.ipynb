{
 "cells": [
  {
   "cell_type": "markdown",
   "metadata": {},
   "source": [
    "# 1.6 Substitution Methods and Exact Equations\n",
    "\n",
    "## Example\n",
    "Solve DE\n",
    "$$\n",
    "\\frac{dy}{dx}=(x+y+3)^2.\n",
    "$$\n",
    "__Solution In class__\n",
    "\n",
    "## Homogeneous Equations\n",
    "A __homogeneous__ first-order DE is one that can be written in the form \n",
    "$$\n",
    "\\frac{dy}{dx}= F(\\frac{y}{x})\n",
    "$$\n",
    "\n",
    "In this case we take the substitution\n",
    "$\n",
    "v={y\\over x}\n",
    "$\n",
    "\n",
    "## Example \n",
    "Solve the DE\n",
    "$$\n",
    "2xy\\frac{dy}{dx}=4x^2+3y^2.\n",
    "$$\n",
    "__Solution In class__\n",
    "\n",
    "\n",
    "## Example \n",
    "Solve the DE\n",
    "$$\n",
    "x\\frac{dy}{dx}=y+\\sqrt{x^2-y^2}, \\quad y(x_0)=0.\n",
    "$$\n",
    "\n",
    "where $x_0>0$.\n",
    "\n",
    "__Solution In class__\n",
    "\n",
    "## Bernoulli Equations\n",
    "It is A first-order DE of the form \n",
    "$$\n",
    "\\frac{dy}{dx} + P(x)y=Q(x)y^n.\n",
    "$$\n",
    "\n",
    "Use the substitution $v=y^{1-n}$\n",
    "\n",
    "\n",
    "## Example (Revisited)\n",
    "Solve the DE\n",
    "$$\n",
    "2xy\\frac{dy}{dx}=4x^2+3y^2.\n",
    "$$\n",
    "__Solution In class__\n",
    "\n",
    "\n",
    "\n",
    "## Example\n",
    "Solve the DE\n",
    "$$\n",
    "x\\frac{dy}{dx}+6y=3xy^{4\\over 3}.\n",
    "$$\n",
    "__Solution In class__\n",
    "\n",
    "\n",
    "## Example\n",
    "Solve the DE\n",
    "$$\n",
    "2xe^{2y}\\frac{dy}{dx}=3x^4+e^{2y}.\n",
    "$$\n",
    "__Solution In class__\n"
   ]
  },
  {
   "cell_type": "markdown",
   "metadata": {},
   "source": [
    "## Exact DE\n",
    "The general solution of a first-order DE has the form\n",
    "$$\n",
    "F(x,y(x))=C\n",
    "$$\n",
    "Differentiating, we get\n",
    "$$\n",
    "\\frac{\\partial F}{\\partial x} + \\frac{\\partial F}{\\partial y}\\frac{dy}{dx} =0\n",
    "$$\n",
    "that is \n",
    "$$\n",
    "M(x,y) + N(x,y)\\frac{dy}{dx} =0\n",
    "$$\n",
    "This eqaution is called __exact differential equation__  with\n",
    "$$\n",
    "M(x,y)=\\frac{\\partial F}{\\partial x},\\quad N(x,y)= \\frac{\\partial F}{\\partial y}\n",
    "$$\n"
   ]
  },
  {
   "cell_type": "markdown",
   "metadata": {},
   "source": [
    "## Example \n",
    "Solve DE\n",
    "$$\n",
    "y^3dx + 3xy^2dy =0\n",
    "$$"
   ]
  },
  {
   "cell_type": "markdown",
   "metadata": {},
   "source": [
    "![Theroem](/imgs/1.6/theorem.jpg)"
   ]
  },
  {
   "cell_type": "markdown",
   "metadata": {},
   "source": [
    "## Example\n",
    "Solve\n",
    "$$\n",
    "(6xy-y^3)dx + (4y+3x^2-3xy^2)dy =0\n",
    "$$\n",
    "\n",
    "## Example\n",
    "Solve\n",
    "$$\n",
    "(\\cos{x} + \\ln{y})dx + (\\frac{x}{y}+e^y)dy =0\n",
    "$$"
   ]
  },
  {
   "cell_type": "markdown",
   "metadata": {},
   "source": [
    "## Reducible Second-Order Equations\n",
    "\n",
    "A second-order DE is\n",
    "$$\n",
    "F(x,y,y',y'')=0\n",
    "$$\n",
    "\n",
    "* if either $x$ or $y$ are missing then we\n",
    "\n",
    "### Case: $y$ is missing:\n",
    "Take\n",
    "$$p=y', \\quad y''=p'$$\n",
    "\n",
    "### Case: $x$ is missing:\n",
    "Take\n",
    "$$p=y', \\quad y''=p\\frac{dp}{dy}$$"
   ]
  },
  {
   "cell_type": "markdown",
   "metadata": {},
   "source": [
    "## Example\n",
    "Solve\n",
    "1. $xy''+2y'=6x$.\n",
    "2. $yy''=(y')^2$."
   ]
  }
 ],
 "metadata": {
  "kernelspec": {
   "display_name": "Python 3",
   "language": "python",
   "name": "python3"
  },
  "language_info": {
   "codemirror_mode": {
    "name": "ipython",
    "version": 3
   },
   "file_extension": ".py",
   "mimetype": "text/x-python",
   "name": "python",
   "nbconvert_exporter": "python",
   "pygments_lexer": "ipython3",
   "version": "3.6.10"
  }
 },
 "nbformat": 4,
 "nbformat_minor": 2
}
