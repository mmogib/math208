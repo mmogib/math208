{
 "cells": [
  {
   "cell_type": "markdown",
   "metadata": {},
   "source": [
    "## Revision for Exam 1\n",
    "\n",
    "Solve\n",
    "* ![Ex1](./imgs/1.4/exercises_1.jpg)\n",
    "* ![Ex2](./imgs/1.4/exercises_2.jpg)\n"
   ]
  },
  {
   "cell_type": "code",
   "execution_count": 1,
   "metadata": {},
   "outputs": [],
   "source": [
    "import numpy as np\n"
   ]
  },
  {
   "cell_type": "code",
   "execution_count": null,
   "metadata": {},
   "outputs": [],
   "source": []
  },
  {
   "cell_type": "code",
   "execution_count": 5,
   "metadata": {},
   "outputs": [
    {
     "data": {
      "text/plain": [
       "35.0131221201128"
      ]
     },
     "execution_count": 5,
     "metadata": {},
     "output_type": "execute_result"
    }
   ],
   "source": [
    "np.log(2**10)/np.log(6)\n",
    "5.27*np.log(100)/np.log(2)"
   ]
  },
  {
   "cell_type": "code",
   "execution_count": 1,
   "metadata": {},
   "outputs": [],
   "source": [
    "using SymPy\n"
   ]
  },
  {
   "cell_type": "code",
   "execution_count": 47,
   "metadata": {},
   "outputs": [
    {
     "data": {
      "text/latex": [
       "\\[ \\left[ \\begin{array}{r}0\\end{array} \\right] \\]"
      ],
      "text/plain": [
       "1-element Array{Sym,1}:\n",
       " 0"
      ]
     },
     "execution_count": 47,
     "metadata": {},
     "output_type": "execute_result"
    }
   ],
   "source": [
    "x = symbols(\"x\", real=True)\n",
    "f = 2x*cos(2x) - (x-2)^2\n",
    "df = f.diff()\n",
    "\n",
    "series(f)\n",
    "I1=sympy.Integral(f,(x,0,0.5))\n",
    "I2=sympy.Integral(-4 + 6x - x^2,(x,0,0.5))\n",
    "gs = 4x^2 -exp(x) - exp(-x)\n",
    "sympy.solve(gs,x)\n"
   ]
  },
  {
   "cell_type": "code",
   "execution_count": 38,
   "metadata": {},
   "outputs": [
    {
     "data": {
      "text/plain": [
       "(0.8244985911923535, 0.00010307584179514162, true)"
      ]
     },
     "execution_count": 38,
     "metadata": {},
     "output_type": "execute_result"
    }
   ],
   "source": [
    "p0=1\n",
    "\n",
    "g = 4x^2 -exp(x) - exp(-x)\n",
    "dg(x) = 8*x - exp(x) + exp(-x) \n",
    "ntn = p -> p - g(p)/dg(p)\n",
    "p1=ntn(p0)\n",
    "p1,abs(p0-p1),abs(p0-p1)<10^-3\n",
    "\n",
    "p2=ntn(p1)\n",
    "p2,abs(p2-p1),abs(p2-p1)<10^-3\n",
    "\n",
    "\n",
    "p3=ntn(p2)\n",
    "p3,abs(p2-p3),abs(p2-p3)<10^-3"
   ]
  },
  {
   "cell_type": "code",
   "execution_count": null,
   "metadata": {},
   "outputs": [],
   "source": []
  }
 ],
 "metadata": {
  "kernelspec": {
   "display_name": "Julia 1.1.0",
   "language": "julia",
   "name": "julia-1.1"
  },
  "language_info": {
   "file_extension": ".jl",
   "mimetype": "application/julia",
   "name": "julia",
   "version": "1.1.0"
  }
 },
 "nbformat": 4,
 "nbformat_minor": 4
}
